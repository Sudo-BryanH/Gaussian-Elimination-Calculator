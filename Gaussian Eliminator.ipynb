{
 "cells": [
  {
   "cell_type": "markdown",
   "id": "ec95311c-d3b1-4384-9787-987a03b36afb",
   "metadata": {},
   "source": [
    "## Gaussian Elimination Calculator\n",
    "    \n",
    "    \n",
    "Just define a matrix and dump it into the function below"
   ]
  },
  {
   "cell_type": "markdown",
   "id": "2a20903a-baf4-4b92-a843-b41cb2452a74",
   "metadata": {},
   "source": [
    "### Code for creating the matrix\n",
    "Complete first before running the algorithm below"
   ]
  },
  {
   "cell_type": "code",
   "execution_count": 7,
   "id": "c51df012-c96d-4788-84a0-ba5953c62e7e",
   "metadata": {},
   "outputs": [
    {
     "name": "stdin",
     "output_type": "stream",
     "text": [
      "Type in the number of rows in your matrix:  1\n",
      "Type in the number of columns in your matrix:  1\n",
      "type in the next number in the 0x0 position  0\n"
     ]
    },
    {
     "name": "stdout",
     "output_type": "stream",
     "text": [
      "your row so far [0.0]\n",
      "your matrix so far [[0.0]]\n",
      "your final matrix [[0.0]]\n"
     ]
    }
   ],
   "source": [
    "### #input?\n",
    "rowlen = 1\n",
    "rowlen = int(input(\"Type in the number of rows in your matrix: \"))\n",
    "collen = 1\n",
    "collen = int(input(\"Type in the number of columns in your matrix: \"))\n",
    "new_mat = []\n",
    "for r in range(rowlen):\n",
    "    rw = []\n",
    "    \n",
    "    for c in range(collen):\n",
    "        #print(\"inner\")\n",
    "        r = float(input(f\"type in the next number in the {r}x{c} position \"))\n",
    "        rw.append(r)\n",
    "        print(\"your row so far\", rw)\n",
    "        \n",
    "    new_mat.append(rw)\n",
    "    #print(\"outer\")\n",
    "    print(\"your matrix so far\", new_mat)\n",
    "print(\"your final matrix\", new_mat)\n"
   ]
  },
  {
   "cell_type": "markdown",
   "id": "f828eda9-6ab1-4e04-a7a4-e2b2bb7a52b9",
   "metadata": {},
   "source": [
    "### Code for the algorithm\n",
    "\n",
    "Ensure you have completed creating the matrix above before running this"
   ]
  },
  {
   "cell_type": "code",
   "execution_count": 5,
   "id": "422fd7d0-42e6-451d-9bdf-a598495274e6",
   "metadata": {},
   "outputs": [
    {
     "name": "stdout",
     "output_type": "stream",
     "text": [
      "[0.0, 1.0, 4.0]\n",
      "[2.0, 2.0, 3.0]\n",
      " \n",
      "[2.0, 2.0, 3.0]\n",
      "[0.0, 1.0, 4.0]\n",
      " \n",
      "[1.0, 1.0, 1.5]\n",
      "[0.0, 1.0, 4.0]\n",
      " \n",
      "[1.0, 1.0, 1.5]\n",
      "[0.0, 1.0, 4.0]\n",
      " \n"
     ]
    },
    {
     "ename": "ZeroDivisionError",
     "evalue": "float division by zero",
     "output_type": "error",
     "traceback": [
      "\u001b[0;31m---------------------------------------------------------------------------\u001b[0m",
      "\u001b[0;31mZeroDivisionError\u001b[0m                         Traceback (most recent call last)",
      "\u001b[0;32m/var/folders/x_/cf2_0zc97fn9nn4ntqqh8d400000gn/T/ipykernel_43058/323214634.py\u001b[0m in \u001b[0;36m<module>\u001b[0;34m\u001b[0m\n\u001b[1;32m    111\u001b[0m \u001b[0;34m\u001b[0m\u001b[0m\n\u001b[1;32m    112\u001b[0m \u001b[0;34m\u001b[0m\u001b[0m\n\u001b[0;32m--> 113\u001b[0;31m \u001b[0mrowReduce\u001b[0m\u001b[0;34m(\u001b[0m\u001b[0;34m)\u001b[0m\u001b[0;34m\u001b[0m\u001b[0;34m\u001b[0m\u001b[0m\n\u001b[0m",
      "\u001b[0;32m/var/folders/x_/cf2_0zc97fn9nn4ntqqh8d400000gn/T/ipykernel_43058/323214634.py\u001b[0m in \u001b[0;36mrowReduce\u001b[0;34m()\u001b[0m\n\u001b[1;32m     74\u001b[0m             \u001b[0mallZero\u001b[0m \u001b[0;34m=\u001b[0m \u001b[0mcheckSwap\u001b[0m\u001b[0;34m(\u001b[0m\u001b[0mcurrCol\u001b[0m\u001b[0;34m,\u001b[0m \u001b[0mrw\u001b[0m\u001b[0;34m)\u001b[0m\u001b[0;34m\u001b[0m\u001b[0;34m\u001b[0m\u001b[0m\n\u001b[1;32m     75\u001b[0m         \u001b[0mdivisor\u001b[0m \u001b[0;34m=\u001b[0m \u001b[0mmatrix\u001b[0m\u001b[0;34m[\u001b[0m\u001b[0mrw\u001b[0m\u001b[0;34m]\u001b[0m\u001b[0;34m[\u001b[0m\u001b[0mcurrCol\u001b[0m\u001b[0;34m]\u001b[0m\u001b[0;34m\u001b[0m\u001b[0;34m\u001b[0m\u001b[0m\n\u001b[0;32m---> 76\u001b[0;31m         \u001b[0mneutralized\u001b[0m \u001b[0;34m=\u001b[0m \u001b[0;34m[\u001b[0m\u001b[0mrow\u001b[0m\u001b[0;34m/\u001b[0m\u001b[0mdivisor\u001b[0m \u001b[0;32mfor\u001b[0m \u001b[0mrow\u001b[0m \u001b[0;32min\u001b[0m \u001b[0mmatrix\u001b[0m\u001b[0;34m[\u001b[0m\u001b[0mrw\u001b[0m\u001b[0;34m]\u001b[0m\u001b[0;34m]\u001b[0m\u001b[0;34m\u001b[0m\u001b[0;34m\u001b[0m\u001b[0m\n\u001b[0m\u001b[1;32m     77\u001b[0m         \u001b[0mmatrix\u001b[0m\u001b[0;34m[\u001b[0m\u001b[0mrw\u001b[0m\u001b[0;34m]\u001b[0m \u001b[0;34m=\u001b[0m \u001b[0mneutralized\u001b[0m\u001b[0;34m\u001b[0m\u001b[0;34m\u001b[0m\u001b[0m\n\u001b[1;32m     78\u001b[0m         \u001b[0mprintMat\u001b[0m\u001b[0;34m(\u001b[0m\u001b[0;34m)\u001b[0m\u001b[0;34m\u001b[0m\u001b[0;34m\u001b[0m\u001b[0m\n",
      "\u001b[0;32m/var/folders/x_/cf2_0zc97fn9nn4ntqqh8d400000gn/T/ipykernel_43058/323214634.py\u001b[0m in \u001b[0;36m<listcomp>\u001b[0;34m(.0)\u001b[0m\n\u001b[1;32m     74\u001b[0m             \u001b[0mallZero\u001b[0m \u001b[0;34m=\u001b[0m \u001b[0mcheckSwap\u001b[0m\u001b[0;34m(\u001b[0m\u001b[0mcurrCol\u001b[0m\u001b[0;34m,\u001b[0m \u001b[0mrw\u001b[0m\u001b[0;34m)\u001b[0m\u001b[0;34m\u001b[0m\u001b[0;34m\u001b[0m\u001b[0m\n\u001b[1;32m     75\u001b[0m         \u001b[0mdivisor\u001b[0m \u001b[0;34m=\u001b[0m \u001b[0mmatrix\u001b[0m\u001b[0;34m[\u001b[0m\u001b[0mrw\u001b[0m\u001b[0;34m]\u001b[0m\u001b[0;34m[\u001b[0m\u001b[0mcurrCol\u001b[0m\u001b[0;34m]\u001b[0m\u001b[0;34m\u001b[0m\u001b[0;34m\u001b[0m\u001b[0m\n\u001b[0;32m---> 76\u001b[0;31m         \u001b[0mneutralized\u001b[0m \u001b[0;34m=\u001b[0m \u001b[0;34m[\u001b[0m\u001b[0mrow\u001b[0m\u001b[0;34m/\u001b[0m\u001b[0mdivisor\u001b[0m \u001b[0;32mfor\u001b[0m \u001b[0mrow\u001b[0m \u001b[0;32min\u001b[0m \u001b[0mmatrix\u001b[0m\u001b[0;34m[\u001b[0m\u001b[0mrw\u001b[0m\u001b[0;34m]\u001b[0m\u001b[0;34m]\u001b[0m\u001b[0;34m\u001b[0m\u001b[0;34m\u001b[0m\u001b[0m\n\u001b[0m\u001b[1;32m     77\u001b[0m         \u001b[0mmatrix\u001b[0m\u001b[0;34m[\u001b[0m\u001b[0mrw\u001b[0m\u001b[0;34m]\u001b[0m \u001b[0;34m=\u001b[0m \u001b[0mneutralized\u001b[0m\u001b[0;34m\u001b[0m\u001b[0;34m\u001b[0m\u001b[0m\n\u001b[1;32m     78\u001b[0m         \u001b[0mprintMat\u001b[0m\u001b[0;34m(\u001b[0m\u001b[0;34m)\u001b[0m\u001b[0;34m\u001b[0m\u001b[0;34m\u001b[0m\u001b[0m\n",
      "\u001b[0;31mZeroDivisionError\u001b[0m: float division by zero"
     ]
    }
   ],
   "source": [
    "\n",
    "#testers \n",
    "collen = 3\n",
    "rowlen = 2\n",
    "matrix = [[0.0, 1.0, 4.0], [2.0, 2.0, 3.0]]\n",
    "\n",
    "\n",
    "#matrix = new_mat\n",
    "\n",
    "def printMat():\n",
    "    for rw in matrix:\n",
    "        print(rw)\n",
    "    print(\" \")\n",
    "\n",
    "\n",
    "# takes the integers of the indexes of the rows and swaps the content\n",
    "# requires r to be in the array\n",
    "def rowSwap(r1, r2):\n",
    "    r1 = r1-1\n",
    "    r2 = r2-1\n",
    "    temp = matrix[r1]\n",
    "    matrix[r1] = matrix[r2]\n",
    "    matrix[r2] = temp\n",
    "\n",
    "# multiplies the row at index r by a scalar c\n",
    "# requires r to be in the array\n",
    "def scalarMultiply(c, r):\n",
    "    r = r-1\n",
    "    rw = []\n",
    "    for n in matrix[r] :\n",
    "        b = n*c\n",
    "        rw.append(b)\n",
    "        \n",
    "    matrix[r] = rw\n",
    "        \n",
    "        \n",
    "# adds a multiple of row r1 to row r2\n",
    "def rowReplace(r1, r2, c):\n",
    "    r1 = r1-1\n",
    "    r2 = r2-1\n",
    "    rw = []\n",
    "    for i in range(collen):\n",
    "        row1 = (matrix[r1])\n",
    "        row2 = (matrix[r2])\n",
    "        n1 = row1[i]\n",
    "        n2 = row2[i]\n",
    "        rw.append(c*n1 + n2)\n",
    "        \n",
    "    \n",
    "    matrix[r2] = rw\n",
    "    \n",
    "    \n",
    "    \n",
    "# printMat()\n",
    "# rowSwap(1, 2)\n",
    "# printMat()\n",
    "# scalarMultiply(1/2, 1)\n",
    "# printMat()\n",
    "# rowReplace(2, 1, -1)\n",
    "\n",
    "# printMat()\n",
    "#for rw in range(len(matrix)) :\n",
    "#    for \n",
    "    \n",
    "# Use a column tracker to avoid diiding by 0 in the case the whole column is 0\n",
    "def rowReduce():\n",
    "    currCol = 0\n",
    "    printMat()\n",
    "    # checkSwap(0)\n",
    "    for rw in range(collen):\n",
    "        # for col in range(currCol, rowlen):\n",
    "        allZero = checkSwap(currCol, rw)\n",
    "        while not allZero:\n",
    "            currCol = currCol + 1\n",
    "            allZero = checkSwap(currCol, rw)\n",
    "        divisor = matrix[rw][currCol]\n",
    "        neutralized = [row/divisor for row in matrix[rw]]\n",
    "        matrix[rw] = neutralized\n",
    "        printMat()\n",
    "        for i in range(rw, collen):\n",
    "            c = -matrix[i][rw]/matrix[rw][currCol]      ## TODO: double check how a matrix should be represented\n",
    "            rowReplace(rw, i, c)\n",
    "        currCol = currCol + 1\n",
    "\n",
    "\n",
    "        \n",
    "# baserow\n",
    "# returns if a column is all zero. Swaps br (current row) with first non-zero first row and returns true, else false\n",
    "def checkSwap(i, br):\n",
    "    swapped = False\n",
    "    for i in range(br, collen):\n",
    "        if matrix[i][br] != 0:\n",
    "            rowSwap(br, i)\n",
    "            printMat()\n",
    "            swapped = True\n",
    "            break\n",
    "            \n",
    "        else:\n",
    "            continue\n",
    "            \n",
    "    return swapped     \n",
    "\n",
    "        \n",
    "rowReduce()\n"
   ]
  },
  {
   "cell_type": "code",
   "execution_count": null,
   "id": "eacfdb94-aa10-4788-b789-73da385b7169",
   "metadata": {},
   "outputs": [],
   "source": []
  },
  {
   "cell_type": "code",
   "execution_count": null,
   "id": "2ec484e1-0744-4606-9c03-6cf6aac1feab",
   "metadata": {},
   "outputs": [],
   "source": []
  }
 ],
 "metadata": {
  "kernelspec": {
   "display_name": "Python 3 (ipykernel)",
   "language": "python",
   "name": "python3"
  },
  "language_info": {
   "codemirror_mode": {
    "name": "ipython",
    "version": 3
   },
   "file_extension": ".py",
   "mimetype": "text/x-python",
   "name": "python",
   "nbconvert_exporter": "python",
   "pygments_lexer": "ipython3",
   "version": "3.9.13"
  }
 },
 "nbformat": 4,
 "nbformat_minor": 5
}
